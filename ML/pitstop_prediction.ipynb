{
 "cells": [
  {
   "cell_type": "code",
   "execution_count": 1,
   "metadata": {},
   "outputs": [],
   "source": [
    "import pandas as pd\n",
    "import numpy as np\n",
    "import seaborn as sns\n",
    "import matplotlib.pyplot as plt\n",
    "from sklearn.model_selection import train_test_split\n",
    "from sklearn import svm\n",
    "from sklearn.tree import DecisionTreeClassifier\n",
    "from sklearn.neighbors import KNeighborsClassifier\n",
    "from sklearn.linear_model import LogisticRegression\n",
    "import matplotlib.pyplot as plt\n",
    "from sklearn.metrics import confusion_matrix\n",
    "from sklearn.metrics import accuracy_score\n",
    "from sklearn.metrics import classification_report\n",
    "from sklearn.metrics import ConfusionMatrixDisplay\n",
    "from sklearn.metrics import plot_roc_curve\n",
    "from sklearn.preprocessing import StandardScaler\n",
    "from sklearn.compose import make_column_transformer\n",
    "import sqlite3\n",
    "from sklearn.model_selection import cross_val_score\n",
    "from sklearn.model_selection import RepeatedStratifiedKFold\n"
   ]
  },
  {
   "cell_type": "code",
   "execution_count": 2,
   "metadata": {},
   "outputs": [
    {
     "name": "stdout",
     "output_type": "stream",
     "text": [
      "        race_id  lapno  position  driver_id  laptime  racetime     gap  \\\n",
      "0             1      0         1          1      NaN     0.000     NaN   \n",
      "1             1      0         2          2      NaN     0.000     NaN   \n",
      "2             1      0         3          3      NaN     0.000     NaN   \n",
      "3             1      0         4          4      NaN     0.000     NaN   \n",
      "4             1      0         5          5      NaN     0.000     NaN   \n",
      "...         ...    ...       ...        ...      ...       ...     ...   \n",
      "134001      121     55         2         27  101.119  5662.487  16.772   \n",
      "134002      121     55         3         40  102.829  5689.150  43.435   \n",
      "134003      121     55         4         15  102.180  5690.094  44.379   \n",
      "134004      121     55         5         12  100.128  5710.072  64.357   \n",
      "134005      121     55         6         43  103.358  5714.920  69.205   \n",
      "\n",
      "        interval compound  tireage pitintime  pitstopduration nextcompound  \\\n",
      "0            NaN       A3        2      None              NaN         None   \n",
      "1            NaN       A3        2      None              NaN         None   \n",
      "2            NaN       A3        2      None              NaN         None   \n",
      "3            NaN       A3        2      None              NaN         None   \n",
      "4            NaN       A3        2      None              NaN         None   \n",
      "...          ...      ...      ...       ...              ...          ...   \n",
      "134001    16.772       A4       30      None              NaN         None   \n",
      "134002    26.663       A7       17      None              NaN         None   \n",
      "134003     0.944       A4       26      None              NaN         None   \n",
      "134004    19.978       A6       17      None              NaN         None   \n",
      "134005     4.848       A4       42      None              NaN         None   \n",
      "\n",
      "        startlapprog_vsc  endlapprog_vsc  age_vsc  startlapprog_sc  \\\n",
      "0                    NaN             NaN      NaN              NaN   \n",
      "1                    NaN             NaN      NaN              NaN   \n",
      "2                    NaN             NaN      NaN              NaN   \n",
      "3                    NaN             NaN      NaN              NaN   \n",
      "4                    NaN             NaN      NaN              NaN   \n",
      "...                  ...             ...      ...              ...   \n",
      "134001               NaN             NaN      NaN              NaN   \n",
      "134002               NaN             NaN      NaN              NaN   \n",
      "134003               NaN             NaN      NaN              NaN   \n",
      "134004               NaN             NaN      NaN              NaN   \n",
      "134005               NaN             NaN      NaN              NaN   \n",
      "\n",
      "        endlapprog_sc  age_sc  \n",
      "0                 NaN     NaN  \n",
      "1                 NaN     NaN  \n",
      "2                 NaN     NaN  \n",
      "3                 NaN     NaN  \n",
      "4                 NaN     NaN  \n",
      "...               ...     ...  \n",
      "134001            NaN     NaN  \n",
      "134002            NaN     NaN  \n",
      "134003            NaN     NaN  \n",
      "134004            NaN     NaN  \n",
      "134005            NaN     NaN  \n",
      "\n",
      "[134006 rows x 19 columns]\n"
     ]
    }
   ],
   "source": [
    "database = \"../F1_timingdata_2014_2019.sqlite\"\n",
    "\n",
    "conn = sqlite3.connect(database)\n",
    "\n",
    "race_data = pd.read_sql(\"select * from laps\", con=conn)\n",
    "print(race_data)\n",
    "conn.close()"
   ]
  },
  {
   "cell_type": "code",
   "execution_count": 3,
   "metadata": {},
   "outputs": [
    {
     "data": {
      "text/html": [
       "<div>\n",
       "<style scoped>\n",
       "    .dataframe tbody tr th:only-of-type {\n",
       "        vertical-align: middle;\n",
       "    }\n",
       "\n",
       "    .dataframe tbody tr th {\n",
       "        vertical-align: top;\n",
       "    }\n",
       "\n",
       "    .dataframe thead th {\n",
       "        text-align: right;\n",
       "    }\n",
       "</style>\n",
       "<table border=\"1\" class=\"dataframe\">\n",
       "  <thead>\n",
       "    <tr style=\"text-align: right;\">\n",
       "      <th></th>\n",
       "      <th>race_id</th>\n",
       "      <th>lapno</th>\n",
       "      <th>position</th>\n",
       "      <th>driver_id</th>\n",
       "      <th>laptime</th>\n",
       "      <th>racetime</th>\n",
       "      <th>gap</th>\n",
       "      <th>interval</th>\n",
       "      <th>compound</th>\n",
       "      <th>tireage</th>\n",
       "      <th>pitintime</th>\n",
       "      <th>pitstopduration</th>\n",
       "      <th>nextcompound</th>\n",
       "      <th>startlapprog_vsc</th>\n",
       "      <th>endlapprog_vsc</th>\n",
       "      <th>age_vsc</th>\n",
       "      <th>startlapprog_sc</th>\n",
       "      <th>endlapprog_sc</th>\n",
       "      <th>age_sc</th>\n",
       "    </tr>\n",
       "  </thead>\n",
       "  <tbody>\n",
       "    <tr>\n",
       "      <th>0</th>\n",
       "      <td>1</td>\n",
       "      <td>0</td>\n",
       "      <td>1</td>\n",
       "      <td>1</td>\n",
       "      <td>NaN</td>\n",
       "      <td>0.0</td>\n",
       "      <td>NaN</td>\n",
       "      <td>NaN</td>\n",
       "      <td>A3</td>\n",
       "      <td>2</td>\n",
       "      <td>None</td>\n",
       "      <td>NaN</td>\n",
       "      <td>None</td>\n",
       "      <td>NaN</td>\n",
       "      <td>NaN</td>\n",
       "      <td>NaN</td>\n",
       "      <td>NaN</td>\n",
       "      <td>NaN</td>\n",
       "      <td>NaN</td>\n",
       "    </tr>\n",
       "    <tr>\n",
       "      <th>1</th>\n",
       "      <td>1</td>\n",
       "      <td>0</td>\n",
       "      <td>2</td>\n",
       "      <td>2</td>\n",
       "      <td>NaN</td>\n",
       "      <td>0.0</td>\n",
       "      <td>NaN</td>\n",
       "      <td>NaN</td>\n",
       "      <td>A3</td>\n",
       "      <td>2</td>\n",
       "      <td>None</td>\n",
       "      <td>NaN</td>\n",
       "      <td>None</td>\n",
       "      <td>NaN</td>\n",
       "      <td>NaN</td>\n",
       "      <td>NaN</td>\n",
       "      <td>NaN</td>\n",
       "      <td>NaN</td>\n",
       "      <td>NaN</td>\n",
       "    </tr>\n",
       "    <tr>\n",
       "      <th>2</th>\n",
       "      <td>1</td>\n",
       "      <td>0</td>\n",
       "      <td>3</td>\n",
       "      <td>3</td>\n",
       "      <td>NaN</td>\n",
       "      <td>0.0</td>\n",
       "      <td>NaN</td>\n",
       "      <td>NaN</td>\n",
       "      <td>A3</td>\n",
       "      <td>2</td>\n",
       "      <td>None</td>\n",
       "      <td>NaN</td>\n",
       "      <td>None</td>\n",
       "      <td>NaN</td>\n",
       "      <td>NaN</td>\n",
       "      <td>NaN</td>\n",
       "      <td>NaN</td>\n",
       "      <td>NaN</td>\n",
       "      <td>NaN</td>\n",
       "    </tr>\n",
       "    <tr>\n",
       "      <th>3</th>\n",
       "      <td>1</td>\n",
       "      <td>0</td>\n",
       "      <td>4</td>\n",
       "      <td>4</td>\n",
       "      <td>NaN</td>\n",
       "      <td>0.0</td>\n",
       "      <td>NaN</td>\n",
       "      <td>NaN</td>\n",
       "      <td>A3</td>\n",
       "      <td>2</td>\n",
       "      <td>None</td>\n",
       "      <td>NaN</td>\n",
       "      <td>None</td>\n",
       "      <td>NaN</td>\n",
       "      <td>NaN</td>\n",
       "      <td>NaN</td>\n",
       "      <td>NaN</td>\n",
       "      <td>NaN</td>\n",
       "      <td>NaN</td>\n",
       "    </tr>\n",
       "    <tr>\n",
       "      <th>4</th>\n",
       "      <td>1</td>\n",
       "      <td>0</td>\n",
       "      <td>5</td>\n",
       "      <td>5</td>\n",
       "      <td>NaN</td>\n",
       "      <td>0.0</td>\n",
       "      <td>NaN</td>\n",
       "      <td>NaN</td>\n",
       "      <td>A3</td>\n",
       "      <td>2</td>\n",
       "      <td>None</td>\n",
       "      <td>NaN</td>\n",
       "      <td>None</td>\n",
       "      <td>NaN</td>\n",
       "      <td>NaN</td>\n",
       "      <td>NaN</td>\n",
       "      <td>NaN</td>\n",
       "      <td>NaN</td>\n",
       "      <td>NaN</td>\n",
       "    </tr>\n",
       "  </tbody>\n",
       "</table>\n",
       "</div>"
      ],
      "text/plain": [
       "   race_id  lapno  position  driver_id  laptime  racetime  gap  interval  \\\n",
       "0        1      0         1          1      NaN       0.0  NaN       NaN   \n",
       "1        1      0         2          2      NaN       0.0  NaN       NaN   \n",
       "2        1      0         3          3      NaN       0.0  NaN       NaN   \n",
       "3        1      0         4          4      NaN       0.0  NaN       NaN   \n",
       "4        1      0         5          5      NaN       0.0  NaN       NaN   \n",
       "\n",
       "  compound  tireage pitintime  pitstopduration nextcompound  startlapprog_vsc  \\\n",
       "0       A3        2      None              NaN         None               NaN   \n",
       "1       A3        2      None              NaN         None               NaN   \n",
       "2       A3        2      None              NaN         None               NaN   \n",
       "3       A3        2      None              NaN         None               NaN   \n",
       "4       A3        2      None              NaN         None               NaN   \n",
       "\n",
       "   endlapprog_vsc  age_vsc  startlapprog_sc  endlapprog_sc  age_sc  \n",
       "0             NaN      NaN              NaN            NaN     NaN  \n",
       "1             NaN      NaN              NaN            NaN     NaN  \n",
       "2             NaN      NaN              NaN            NaN     NaN  \n",
       "3             NaN      NaN              NaN            NaN     NaN  \n",
       "4             NaN      NaN              NaN            NaN     NaN  "
      ]
     },
     "execution_count": 3,
     "metadata": {},
     "output_type": "execute_result"
    }
   ],
   "source": [
    "race_data.head()"
   ]
  },
  {
   "cell_type": "code",
   "execution_count": 4,
   "metadata": {},
   "outputs": [
    {
     "name": "stdout",
     "output_type": "stream",
     "text": [
      "         index  race_id  lapno  position  driver_id  laptime  racetime  \\\n",
      "0           22        1      1         1          3  102.038   102.038   \n",
      "1           23        1      1         2          2  103.549   103.549   \n",
      "2           24        1      1         3          4  105.402   105.402   \n",
      "3           25        1      1         4          1  106.128   106.128   \n",
      "4           26        1      1         5          7  106.986   106.986   \n",
      "...        ...      ...    ...       ...        ...      ...       ...   \n",
      "131522  134001      121     55         2         27  101.119  5662.487   \n",
      "131523  134002      121     55         3         40  102.829  5689.150   \n",
      "131524  134003      121     55         4         15  102.180  5690.094   \n",
      "131525  134004      121     55         5         12  100.128  5710.072   \n",
      "131526  134005      121     55         6         43  103.358  5714.920   \n",
      "\n",
      "           gap  interval compound  tireage pitintime  pitstopduration  \\\n",
      "0        0.000     0.000       A3        3      None              NaN   \n",
      "1        1.511     1.511       A3        3      None              NaN   \n",
      "2        3.364     1.853       A3        3      None              NaN   \n",
      "3        4.090     0.726       A3        3      None              NaN   \n",
      "4        4.948     0.858       A3        3      None              NaN   \n",
      "...        ...       ...      ...      ...       ...              ...   \n",
      "131522  16.772    16.772       A4       30      None              NaN   \n",
      "131523  43.435    26.663       A7       17      None              NaN   \n",
      "131524  44.379     0.944       A4       26      None              NaN   \n",
      "131525  64.357    19.978       A6       17      None              NaN   \n",
      "131526  69.205     4.848       A4       42      None              NaN   \n",
      "\n",
      "       nextcompound  startlapprog_vsc  endlapprog_vsc  age_vsc  \\\n",
      "0              None               NaN             NaN      NaN   \n",
      "1              None               NaN             NaN      NaN   \n",
      "2              None               NaN             NaN      NaN   \n",
      "3              None               NaN             NaN      NaN   \n",
      "4              None               NaN             NaN      NaN   \n",
      "...             ...               ...             ...      ...   \n",
      "131522         None               NaN             NaN      NaN   \n",
      "131523         None               NaN             NaN      NaN   \n",
      "131524         None               NaN             NaN      NaN   \n",
      "131525         None               NaN             NaN      NaN   \n",
      "131526         None               NaN             NaN      NaN   \n",
      "\n",
      "        startlapprog_sc  endlapprog_sc  age_sc  \n",
      "0                   NaN            NaN     NaN  \n",
      "1                   NaN            NaN     NaN  \n",
      "2                   NaN            NaN     NaN  \n",
      "3                   NaN            NaN     NaN  \n",
      "4                   NaN            NaN     NaN  \n",
      "...                 ...            ...     ...  \n",
      "131522              NaN            NaN     NaN  \n",
      "131523              NaN            NaN     NaN  \n",
      "131524              NaN            NaN     NaN  \n",
      "131525              NaN            NaN     NaN  \n",
      "131526              NaN            NaN     NaN  \n",
      "\n",
      "[131527 rows x 20 columns]\n"
     ]
    }
   ],
   "source": [
    "race_data = race_data[race_data.lapno != 0]\n",
    "index = np.arange(0, len(race_data))\n",
    "\n",
    "race_data = race_data.reset_index()\n",
    "\n",
    "print(race_data)"
   ]
  },
  {
   "cell_type": "code",
   "execution_count": 5,
   "metadata": {},
   "outputs": [
    {
     "name": "stdout",
     "output_type": "stream",
     "text": [
      "         index  race_id  lapno  position  driver_id  laptime  racetime  \\\n",
      "0           22        1      1         1          3  102.038   102.038   \n",
      "1           23        1      1         2          2  103.549   103.549   \n",
      "2           24        1      1         3          4  105.402   105.402   \n",
      "3           25        1      1         4          1  106.128   106.128   \n",
      "4           26        1      1         5          7  106.986   106.986   \n",
      "...        ...      ...    ...       ...        ...      ...       ...   \n",
      "131522  134001      121     55         2         27  101.119  5662.487   \n",
      "131523  134002      121     55         3         40  102.829  5689.150   \n",
      "131524  134003      121     55         4         15  102.180  5690.094   \n",
      "131525  134004      121     55         5         12  100.128  5710.072   \n",
      "131526  134005      121     55         6         43  103.358  5714.920   \n",
      "\n",
      "           gap  interval compound  tireage pitintime  pitstopduration  \\\n",
      "0        0.000     0.000       A3        3      None              NaN   \n",
      "1        1.511     1.511       A3        3      None              NaN   \n",
      "2        3.364     1.853       A3        3      None              NaN   \n",
      "3        4.090     0.726       A3        3      None              NaN   \n",
      "4        4.948     0.858       A3        3      None              NaN   \n",
      "...        ...       ...      ...      ...       ...              ...   \n",
      "131522  16.772    16.772       A4       30      None              NaN   \n",
      "131523  43.435    26.663       A7       17      None              NaN   \n",
      "131524  44.379     0.944       A4       26      None              NaN   \n",
      "131525  64.357    19.978       A6       17      None              NaN   \n",
      "131526  69.205     4.848       A4       42      None              NaN   \n",
      "\n",
      "       nextcompound  startlapprog_vsc  endlapprog_vsc  age_vsc  \\\n",
      "0              None               NaN             NaN      NaN   \n",
      "1              None               NaN             NaN      NaN   \n",
      "2              None               NaN             NaN      NaN   \n",
      "3              None               NaN             NaN      NaN   \n",
      "4              None               NaN             NaN      NaN   \n",
      "...             ...               ...             ...      ...   \n",
      "131522         None               NaN             NaN      NaN   \n",
      "131523         None               NaN             NaN      NaN   \n",
      "131524         None               NaN             NaN      NaN   \n",
      "131525         None               NaN             NaN      NaN   \n",
      "131526         None               NaN             NaN      NaN   \n",
      "\n",
      "        startlapprog_sc  endlapprog_sc  age_sc  \n",
      "0                   NaN            NaN     NaN  \n",
      "1                   NaN            NaN     NaN  \n",
      "2                   NaN            NaN     NaN  \n",
      "3                   NaN            NaN     NaN  \n",
      "4                   NaN            NaN     NaN  \n",
      "...                 ...            ...     ...  \n",
      "131522              NaN            NaN     NaN  \n",
      "131523              NaN            NaN     NaN  \n",
      "131524              NaN            NaN     NaN  \n",
      "131525              NaN            NaN     NaN  \n",
      "131526              NaN            NaN     NaN  \n",
      "\n",
      "[127097 rows x 20 columns]\n"
     ]
    }
   ],
   "source": [
    "no_pit = race_data.loc[race_data['pitstopduration'].isnull() == True]\n",
    "pit = race_data.loc[race_data['pitstopduration'].isnull() == False]\n",
    "print(no_pit)"
   ]
  },
  {
   "cell_type": "code",
   "execution_count": 6,
   "metadata": {},
   "outputs": [
    {
     "name": "stdout",
     "output_type": "stream",
     "text": [
      "         index  race_id  lapno  position  driver_id  laptime  racetime  \\\n",
      "16          38        1      1        17         22  130.795   130.795   \n",
      "17          39        1      1        18         16  156.707   156.707   \n",
      "18          40        1      1        19         20  161.894   161.894   \n",
      "182        204        1     10        16         15  156.286  1038.096   \n",
      "193        215        1     11         9         10  117.843  1101.790   \n",
      "...        ...      ...    ...       ...        ...      ...       ...   \n",
      "131194  133673      121     38         3         40  104.980  3944.580   \n",
      "131197  133676      121     38         6         12  105.352  3966.548   \n",
      "131238  133717      121     40         7          8  105.782  4208.112   \n",
      "131261  133740      121     41        10         25  105.220  4326.769   \n",
      "131282  133761      121     42        11          2  105.502  4434.759   \n",
      "\n",
      "            gap  interval compound  tireage            pitintime  \\\n",
      "16       28.757     5.275       A3        1  2014-03-16 17:09:56   \n",
      "17       54.669    25.912       A3        1  2014-03-16 17:10:14   \n",
      "18       59.856     5.187       A2        1  2014-03-16 17:10:12   \n",
      "182      78.704     5.033       A3       10  2014-03-16 17:24:46   \n",
      "193      47.213    21.762       A3       13  2014-03-16 17:26:02   \n",
      "...         ...       ...      ...      ...                  ...   \n",
      "131194   24.819    10.603       A4       26  2019-12-01 18:19:14   \n",
      "131197   46.787     0.082       A4       26  2019-12-01 18:19:36   \n",
      "131238   85.135    17.759       A4       40  2019-12-01 18:23:38   \n",
      "131261  101.816     0.744       A4       29  2019-12-01 18:25:36   \n",
      "131282  107.653     0.728       A4       31  2019-12-01 18:27:24   \n",
      "\n",
      "        pitstopduration nextcompound  startlapprog_vsc  endlapprog_vsc  \\\n",
      "16               17.255         None               NaN             NaN   \n",
      "17               25.541           A2               NaN             NaN   \n",
      "18               32.657           A3               NaN             NaN   \n",
      "182              34.921           A3               NaN             NaN   \n",
      "193              22.411           A3               NaN             NaN   \n",
      "...                 ...          ...               ...             ...   \n",
      "131194           21.274           A7               NaN             NaN   \n",
      "131197           21.858           A6               NaN             NaN   \n",
      "131238           21.496           A6               NaN             NaN   \n",
      "131261           21.466           A6               NaN             NaN   \n",
      "131282           21.624           A7               NaN             NaN   \n",
      "\n",
      "        age_vsc  startlapprog_sc  endlapprog_sc  age_sc  \n",
      "16          NaN              NaN            NaN     NaN  \n",
      "17          NaN              NaN            NaN     NaN  \n",
      "18          NaN              NaN            NaN     NaN  \n",
      "182         NaN              NaN            NaN     NaN  \n",
      "193         NaN            0.722            1.0   0.278  \n",
      "...         ...              ...            ...     ...  \n",
      "131194      NaN              NaN            NaN     NaN  \n",
      "131197      NaN              NaN            NaN     NaN  \n",
      "131238      NaN              NaN            NaN     NaN  \n",
      "131261      NaN              NaN            NaN     NaN  \n",
      "131282      NaN              NaN            NaN     NaN  \n",
      "\n",
      "[4430 rows x 20 columns]\n"
     ]
    }
   ],
   "source": [
    "print(pit)"
   ]
  },
  {
   "cell_type": "code",
   "execution_count": 7,
   "metadata": {},
   "outputs": [
    {
     "data": {
      "text/plain": [
       "0    127097\n",
       "1      4430\n",
       "Name: pitintime, dtype: int64"
      ]
     },
     "execution_count": 7,
     "metadata": {},
     "output_type": "execute_result"
    }
   ],
   "source": [
    "new_pit = race_data.pitintime.notnull().astype('int')\n",
    "\n",
    "new_pit.value_counts()\n"
   ]
  },
  {
   "cell_type": "code",
   "execution_count": 8,
   "metadata": {},
   "outputs": [],
   "source": [
    "race_data = race_data.assign(pit = new_pit)"
   ]
  },
  {
   "cell_type": "code",
   "execution_count": 9,
   "metadata": {},
   "outputs": [
    {
     "data": {
      "text/plain": [
       "<bound method NDFrame.head of          index  race_id  lapno  position  driver_id  laptime  racetime  \\\n",
       "0           22        1      1         1          3  102.038   102.038   \n",
       "1           23        1      1         2          2  103.549   103.549   \n",
       "2           24        1      1         3          4  105.402   105.402   \n",
       "3           25        1      1         4          1  106.128   106.128   \n",
       "4           26        1      1         5          7  106.986   106.986   \n",
       "...        ...      ...    ...       ...        ...      ...       ...   \n",
       "131522  134001      121     55         2         27  101.119  5662.487   \n",
       "131523  134002      121     55         3         40  102.829  5689.150   \n",
       "131524  134003      121     55         4         15  102.180  5690.094   \n",
       "131525  134004      121     55         5         12  100.128  5710.072   \n",
       "131526  134005      121     55         6         43  103.358  5714.920   \n",
       "\n",
       "           gap  interval compound  ...  pitintime pitstopduration  \\\n",
       "0        0.000     0.000       A3  ...       None             NaN   \n",
       "1        1.511     1.511       A3  ...       None             NaN   \n",
       "2        3.364     1.853       A3  ...       None             NaN   \n",
       "3        4.090     0.726       A3  ...       None             NaN   \n",
       "4        4.948     0.858       A3  ...       None             NaN   \n",
       "...        ...       ...      ...  ...        ...             ...   \n",
       "131522  16.772    16.772       A4  ...       None             NaN   \n",
       "131523  43.435    26.663       A7  ...       None             NaN   \n",
       "131524  44.379     0.944       A4  ...       None             NaN   \n",
       "131525  64.357    19.978       A6  ...       None             NaN   \n",
       "131526  69.205     4.848       A4  ...       None             NaN   \n",
       "\n",
       "        nextcompound startlapprog_vsc  endlapprog_vsc  age_vsc  \\\n",
       "0               None              NaN             NaN      NaN   \n",
       "1               None              NaN             NaN      NaN   \n",
       "2               None              NaN             NaN      NaN   \n",
       "3               None              NaN             NaN      NaN   \n",
       "4               None              NaN             NaN      NaN   \n",
       "...              ...              ...             ...      ...   \n",
       "131522          None              NaN             NaN      NaN   \n",
       "131523          None              NaN             NaN      NaN   \n",
       "131524          None              NaN             NaN      NaN   \n",
       "131525          None              NaN             NaN      NaN   \n",
       "131526          None              NaN             NaN      NaN   \n",
       "\n",
       "        startlapprog_sc  endlapprog_sc  age_sc  pit  \n",
       "0                   NaN            NaN     NaN    0  \n",
       "1                   NaN            NaN     NaN    0  \n",
       "2                   NaN            NaN     NaN    0  \n",
       "3                   NaN            NaN     NaN    0  \n",
       "4                   NaN            NaN     NaN    0  \n",
       "...                 ...            ...     ...  ...  \n",
       "131522              NaN            NaN     NaN    0  \n",
       "131523              NaN            NaN     NaN    0  \n",
       "131524              NaN            NaN     NaN    0  \n",
       "131525              NaN            NaN     NaN    0  \n",
       "131526              NaN            NaN     NaN    0  \n",
       "\n",
       "[131527 rows x 21 columns]>"
      ]
     },
     "execution_count": 9,
     "metadata": {},
     "output_type": "execute_result"
    }
   ],
   "source": [
    "race_data.head"
   ]
  },
  {
   "cell_type": "code",
   "execution_count": 10,
   "metadata": {},
   "outputs": [],
   "source": [
    "x = race_data.drop(['pit','pitstopduration','nextcompound','startlapprog_vsc','age_vsc','endlapprog_vsc','startlapprog_sc','endlapprog_sc','age_sc','pitintime'],axis=1)\n",
    "y = race_data['pit']\n"
   ]
  },
  {
   "cell_type": "code",
   "execution_count": 11,
   "metadata": {},
   "outputs": [
    {
     "data": {
      "text/html": [
       "<div>\n",
       "<style scoped>\n",
       "    .dataframe tbody tr th:only-of-type {\n",
       "        vertical-align: middle;\n",
       "    }\n",
       "\n",
       "    .dataframe tbody tr th {\n",
       "        vertical-align: top;\n",
       "    }\n",
       "\n",
       "    .dataframe thead th {\n",
       "        text-align: right;\n",
       "    }\n",
       "</style>\n",
       "<table border=\"1\" class=\"dataframe\">\n",
       "  <thead>\n",
       "    <tr style=\"text-align: right;\">\n",
       "      <th></th>\n",
       "      <th>index</th>\n",
       "      <th>race_id</th>\n",
       "      <th>lapno</th>\n",
       "      <th>position</th>\n",
       "      <th>driver_id</th>\n",
       "      <th>laptime</th>\n",
       "      <th>racetime</th>\n",
       "      <th>gap</th>\n",
       "      <th>interval</th>\n",
       "      <th>compound</th>\n",
       "      <th>tireage</th>\n",
       "    </tr>\n",
       "  </thead>\n",
       "  <tbody>\n",
       "    <tr>\n",
       "      <th>0</th>\n",
       "      <td>22</td>\n",
       "      <td>1</td>\n",
       "      <td>1</td>\n",
       "      <td>1</td>\n",
       "      <td>3</td>\n",
       "      <td>102.038</td>\n",
       "      <td>102.038</td>\n",
       "      <td>0.000</td>\n",
       "      <td>0.000</td>\n",
       "      <td>A3</td>\n",
       "      <td>3</td>\n",
       "    </tr>\n",
       "    <tr>\n",
       "      <th>1</th>\n",
       "      <td>23</td>\n",
       "      <td>1</td>\n",
       "      <td>1</td>\n",
       "      <td>2</td>\n",
       "      <td>2</td>\n",
       "      <td>103.549</td>\n",
       "      <td>103.549</td>\n",
       "      <td>1.511</td>\n",
       "      <td>1.511</td>\n",
       "      <td>A3</td>\n",
       "      <td>3</td>\n",
       "    </tr>\n",
       "    <tr>\n",
       "      <th>2</th>\n",
       "      <td>24</td>\n",
       "      <td>1</td>\n",
       "      <td>1</td>\n",
       "      <td>3</td>\n",
       "      <td>4</td>\n",
       "      <td>105.402</td>\n",
       "      <td>105.402</td>\n",
       "      <td>3.364</td>\n",
       "      <td>1.853</td>\n",
       "      <td>A3</td>\n",
       "      <td>3</td>\n",
       "    </tr>\n",
       "    <tr>\n",
       "      <th>3</th>\n",
       "      <td>25</td>\n",
       "      <td>1</td>\n",
       "      <td>1</td>\n",
       "      <td>4</td>\n",
       "      <td>1</td>\n",
       "      <td>106.128</td>\n",
       "      <td>106.128</td>\n",
       "      <td>4.090</td>\n",
       "      <td>0.726</td>\n",
       "      <td>A3</td>\n",
       "      <td>3</td>\n",
       "    </tr>\n",
       "    <tr>\n",
       "      <th>4</th>\n",
       "      <td>26</td>\n",
       "      <td>1</td>\n",
       "      <td>1</td>\n",
       "      <td>5</td>\n",
       "      <td>7</td>\n",
       "      <td>106.986</td>\n",
       "      <td>106.986</td>\n",
       "      <td>4.948</td>\n",
       "      <td>0.858</td>\n",
       "      <td>A3</td>\n",
       "      <td>3</td>\n",
       "    </tr>\n",
       "  </tbody>\n",
       "</table>\n",
       "</div>"
      ],
      "text/plain": [
       "   index  race_id  lapno  position  driver_id  laptime  racetime    gap  \\\n",
       "0     22        1      1         1          3  102.038   102.038  0.000   \n",
       "1     23        1      1         2          2  103.549   103.549  1.511   \n",
       "2     24        1      1         3          4  105.402   105.402  3.364   \n",
       "3     25        1      1         4          1  106.128   106.128  4.090   \n",
       "4     26        1      1         5          7  106.986   106.986  4.948   \n",
       "\n",
       "   interval compound  tireage  \n",
       "0     0.000       A3        3  \n",
       "1     1.511       A3        3  \n",
       "2     1.853       A3        3  \n",
       "3     0.726       A3        3  \n",
       "4     0.858       A3        3  "
      ]
     },
     "execution_count": 11,
     "metadata": {},
     "output_type": "execute_result"
    }
   ],
   "source": [
    "x.head()"
   ]
  },
  {
   "cell_type": "code",
   "execution_count": 12,
   "metadata": {},
   "outputs": [
    {
     "name": "stdout",
     "output_type": "stream",
     "text": [
      "0         0\n",
      "1         0\n",
      "2         0\n",
      "3         0\n",
      "4         0\n",
      "         ..\n",
      "131522    0\n",
      "131523    0\n",
      "131524    0\n",
      "131525    0\n",
      "131526    0\n",
      "Name: pit, Length: 131527, dtype: int32\n"
     ]
    }
   ],
   "source": [
    "print(y)"
   ]
  },
  {
   "cell_type": "code",
   "execution_count": 13,
   "metadata": {},
   "outputs": [
    {
     "name": "stdout",
     "output_type": "stream",
     "text": [
      "[[0.00000000e+00 0.00000000e+00 0.00000000e+00 ... 0.00000000e+00\n",
      "  0.00000000e+00 0.00000000e+00]\n",
      " [7.46363345e-06 0.00000000e+00 0.00000000e+00 ... 0.00000000e+00\n",
      "  0.00000000e+00 0.00000000e+00]\n",
      " [1.49272669e-05 0.00000000e+00 0.00000000e+00 ... 0.00000000e+00\n",
      "  0.00000000e+00 0.00000000e+00]\n",
      " ...\n",
      " [9.99985073e-01 1.00000000e+00 7.01298701e-01 ... 0.00000000e+00\n",
      "  0.00000000e+00 0.00000000e+00]\n",
      " [9.99992536e-01 1.00000000e+00 7.01298701e-01 ... 0.00000000e+00\n",
      "  0.00000000e+00 0.00000000e+00]\n",
      " [1.00000000e+00 1.00000000e+00 7.01298701e-01 ... 0.00000000e+00\n",
      "  0.00000000e+00 0.00000000e+00]]\n"
     ]
    },
    {
     "name": "stderr",
     "output_type": "stream",
     "text": [
      "C:\\Users\\makss\\AppData\\Local\\Packages\\PythonSoftwareFoundation.Python.3.9_qbz5n2kfra8p0\\LocalCache\\local-packages\\Python39\\site-packages\\sklearn\\utils\\validation.py:1675: FutureWarning: Feature names only support names that are all strings. Got feature names with dtypes: ['int', 'str']. An error will be raised in 1.2.\n",
      "  warnings.warn(\n",
      "C:\\Users\\makss\\AppData\\Local\\Packages\\PythonSoftwareFoundation.Python.3.9_qbz5n2kfra8p0\\LocalCache\\local-packages\\Python39\\site-packages\\sklearn\\utils\\validation.py:1675: FutureWarning: Feature names only support names that are all strings. Got feature names with dtypes: ['int', 'str']. An error will be raised in 1.2.\n",
      "  warnings.warn(\n"
     ]
    }
   ],
   "source": [
    "from sklearn.preprocessing import OneHotEncoder\n",
    "from sklearn.preprocessing import MinMaxScaler\n",
    "\n",
    "encoder = OneHotEncoder()\n",
    "\n",
    "encoder_df = pd.DataFrame(encoder.fit_transform(x[['compound']]).toarray())\n",
    "x = pd.concat([x,encoder_df], axis = 1)\n",
    "\n",
    "x = x.drop(['compound'], axis = 1)\n",
    "\n",
    "scaler = MinMaxScaler()\n",
    "\n",
    "x = scaler.fit_transform(x)\n",
    "\n",
    "print(x)\n",
    "\n"
   ]
  },
  {
   "cell_type": "code",
   "execution_count": 14,
   "metadata": {},
   "outputs": [],
   "source": [
    "from sklearn.model_selection import train_test_split\n",
    "X_train, X_test, y_train, y_test = train_test_split(x,y,test_size=0.2,random_state=42)"
   ]
  },
  {
   "cell_type": "code",
   "execution_count": 15,
   "metadata": {},
   "outputs": [
    {
     "name": "stderr",
     "output_type": "stream",
     "text": [
      "C:\\Users\\makss\\AppData\\Local\\Packages\\PythonSoftwareFoundation.Python.3.9_qbz5n2kfra8p0\\LocalCache\\local-packages\\Python39\\site-packages\\sklearn\\utils\\deprecation.py:87: FutureWarning: Function plot_roc_curve is deprecated; Function `plot_roc_curve` is deprecated in 1.0 and will be removed in 1.2. Use one of the class methods: RocCurveDisplay.from_predictions or RocCurveDisplay.from_estimator.\n",
      "  warnings.warn(msg, category=FutureWarning)\n"
     ]
    },
    {
     "data": {
      "image/png": "[encoded data removed]",
      "text/plain": [
       "<Figure size 432x288 with 1 Axes>"
      ]
     },
     "metadata": {
      "needs_background": "light"
     },
     "output_type": "display_data"
    }
   ],
   "source": [
    "\n",
    "model = svm.SVC(gamma='scale',cache_size=1000, class_weight='balanced',C = 0.7)\n",
    "model_displays = {}\n",
    "model.fit(X_train, y_train)\n",
    "fig,ax =plt.subplots()\n",
    "name = type(model).__name__\n",
    "model_displays[type(model).__name__] = plot_roc_curve(\n",
    "        model,X_test,y_test,ax=ax,name=name)\n",
    "#print('Mean ROC AUC: %.3f' % np.mean(scores))"
   ]
  },
  {
   "cell_type": "code",
   "execution_count": 16,
   "metadata": {},
   "outputs": [
    {
     "name": "stdout",
     "output_type": "stream",
     "text": [
      "[0 0 1 ... 1 0 1]\n"
     ]
    }
   ],
   "source": [
    "clf = svm.SVC(gamma='scale',cache_size=1000, class_weight='balanced',C = 0.7)\n",
    "\n",
    "clf.fit(X_train, y_train)\n",
    "\n",
    "y_pred = clf.predict(X_test)\n",
    "print(y_pred)\n"
   ]
  },
  {
   "cell_type": "code",
   "execution_count": 17,
   "metadata": {},
   "outputs": [
    {
     "data": {
      "text/plain": [
       "<AxesSubplot:xlabel='lapno', ylabel='pit'>"
      ]
     },
     "execution_count": 17,
     "metadata": {},
     "output_type": "execute_result"
    },
    {
     "data": {
      "image/png": "[encoded data removed]",
      "text/plain": [
       "<Figure size 432x288 with 1 Axes>"
      ]
     },
     "metadata": {
      "needs_background": "light"
     },
     "output_type": "display_data"
    }
   ],
   "source": [
    "test_df = pd.DataFrame(y_pred)\n",
    "test_df.value_counts()\n",
    "#sns.barplot(data=test_df.value_counts())\n",
    "sns.barplot(x='lapno',y='pit', data = race_data)"
   ]
  },
  {
   "cell_type": "code",
   "execution_count": 18,
   "metadata": {},
   "outputs": [
    {
     "name": "stdout",
     "output_type": "stream",
     "text": [
      "              precision    recall  f1-score   support\n",
      "\n",
      "           0       0.99      0.70      0.82     25397\n",
      "           1       0.09      0.78      0.15       909\n",
      "\n",
      "    accuracy                           0.71     26306\n",
      "   macro avg       0.54      0.74      0.49     26306\n",
      "weighted avg       0.96      0.71      0.80     26306\n",
      "\n"
     ]
    }
   ],
   "source": [
    "cr = classification_report(y_true=y_test, y_pred=y_pred)\n",
    "print(cr)"
   ]
  },
  {
   "cell_type": "code",
   "execution_count": null,
   "metadata": {},
   "outputs": [],
   "source": []
  },
  {
   "cell_type": "code",
   "execution_count": null,
   "metadata": {},
   "outputs": [],
   "source": []
  },
  {
   "cell_type": "code",
   "execution_count": null,
   "metadata": {},
   "outputs": [],
   "source": []
  }
 ],
 "metadata": {
  "kernelspec": {
   "display_name": "Python 3.9.13 64-bit (windows store)",
   "language": "python",
   "name": "python3"
  },
  "language_info": {
   "codemirror_mode": {
    "name": "ipython",
    "version": 3
   },
   "file_extension": ".py",
   "mimetype": "text/x-python",
   "name": "python",
   "nbconvert_exporter": "python",
   "pygments_lexer": "ipython3",
   "version": "3.9.13"
  },
  "orig_nbformat": 4,
  "vscode": {
   "interpreter": {
    "hash": "6ae660a70c3b35990b71507a0ed195d0061fbabcd1507fcae297850f1068da08"
   }
  }
 },
 "nbformat": 4,
 "nbformat_minor": 2
}
